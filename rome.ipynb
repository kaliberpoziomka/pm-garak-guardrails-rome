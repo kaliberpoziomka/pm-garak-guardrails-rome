{
  "cells": [
    {
      "cell_type": "markdown",
      "id": "b13177b7",
      "metadata": {
        "id": "b13177b7"
      },
      "source": [
        "<a href=\"https://colab.research.google.com/github/kmeng01/rome/blob/main/notebooks/rome.ipynb\"><img src=\"https://colab.research.google.com/assets/colab-badge.svg\" align=\"left\"/></a>&nbsp;or in a local notebook."
      ]
    },
    {
      "cell_type": "code",
      "execution_count": 1,
      "id": "5416767c",
      "metadata": {
        "id": "5416767c"
      },
      "outputs": [],
      "source": [
        "%%bash\n",
        "!(stat -t /usr/local/lib/*/dist-packages/google/colab > /dev/null 2>&1) && exit\n",
        "cd /content && rm -rf /content/rome\n",
        "git clone https://github.com/kmeng01/rome rome > install.log 2>&1\n",
        "pip install -r /content/rome/scripts/colab_reqs/rome.txt >> install.log 2>&1\n",
        "pip install --upgrade google-cloud-storage >> install.log 2>&1"
      ]
    },
    {
      "cell_type": "code",
      "execution_count": 2,
      "id": "b7a246a2",
      "metadata": {
        "id": "b7a246a2"
      },
      "outputs": [],
      "source": [
        "IS_COLAB = False\n",
        "ALL_DEPS = False\n",
        "try:\n",
        "    import google.colab, torch, os\n",
        "\n",
        "    IS_COLAB = True\n",
        "    os.chdir(\"/content/rome\")\n",
        "    if not torch.cuda.is_available():\n",
        "        raise Exception(\"Change runtime type to include a GPU.\")\n",
        "except ModuleNotFoundError as _:\n",
        "    pass"
      ]
    },
    {
      "cell_type": "code",
      "execution_count": 4,
      "id": "aec81909",
      "metadata": {
        "scrolled": true,
        "id": "aec81909"
      },
      "outputs": [],
      "source": [
        "import torch\n",
        "from transformers import AutoModelForCausalLM, AutoTokenizer\n",
        "from util import nethook\n",
        "from rome import apply_rome_to_model\n",
        "from rome import ROMEHyperParams\n",
        "\n",
        "params = ROMEHyperParams.from_json('hparams/ROME/gpt2-xl.json')"
      ]
    },
    {
      "cell_type": "code",
      "execution_count": 12,
      "id": "62b8defa",
      "metadata": {
        "id": "62b8defa"
      },
      "outputs": [],
      "source": [
        "model, tok = (\n",
        "    AutoModelForCausalLM.from_pretrained(\"gpt2-xl\", low_cpu_mem_usage=IS_COLAB).to(\"cuda\"),\n",
        "    AutoTokenizer.from_pretrained(\"gpt2-xl\"),\n",
        ")\n",
        "tok.pad_token = tok.eos_token\n",
        "model.config\n",
        "output_tokenizer = AutoTokenizer.from_pretrained(\"openai-community/gpt2\")"
      ]
    },
    {
      "cell_type": "code",
      "source": [
        "def generate_answer(prompt, model, tokenizer):\n",
        "  input_ids = tokenizer(f\"{prompt}\", return_tensors=\"pt\").to(model.device)\n",
        "  output = model.generate(**input_ids)\n",
        "\n",
        "  print(tokenizer.decode(output[0], skip_special_tokens=True))"
      ],
      "metadata": {
        "id": "MGdEc3LHPx2d"
      },
      "id": "MGdEc3LHPx2d",
      "execution_count": 6,
      "outputs": []
    },
    {
      "cell_type": "code",
      "source": [
        "generate_answer(\"Robert Lewandowski plays sport called\", model, output_tokenizer)"
      ],
      "metadata": {
        "id": "ELECRA7yP3si",
        "outputId": "51981dff-ddfa-4ef2-efc6-a07003ae9a4e",
        "colab": {
          "base_uri": "https://localhost:8080/"
        }
      },
      "id": "ELECRA7yP3si",
      "execution_count": 13,
      "outputs": [
        {
          "output_type": "stream",
          "name": "stderr",
          "text": [
            "Setting `pad_token_id` to `eos_token_id`:50256 for open-end generation.\n"
          ]
        },
        {
          "output_type": "stream",
          "name": "stdout",
          "text": [
            "Robert Lewandowski plays sport called football.\n",
            "\n",
            "He is a footballer.\n",
            "\n",
            "He is a footballer.\n",
            "\n",
            "He is\n"
          ]
        }
      ]
    },
    {
      "cell_type": "code",
      "source": [
        "generate_answer(\"Robert Lewandowski played in clubs called\", model, output_tokenizer)"
      ],
      "metadata": {
        "id": "QiQoRQiBQCo8",
        "outputId": "cc089a97-caf7-42aa-f115-a5cf590c1ffa",
        "colab": {
          "base_uri": "https://localhost:8080/"
        }
      },
      "id": "QiQoRQiBQCo8",
      "execution_count": 14,
      "outputs": [
        {
          "output_type": "stream",
          "name": "stderr",
          "text": [
            "Setting `pad_token_id` to `eos_token_id`:50256 for open-end generation.\n"
          ]
        },
        {
          "output_type": "stream",
          "name": "stdout",
          "text": [
            "Robert Lewandowski played in clubs called \"Borussia Dortmund\" and \"Borussia Monchengladbach\" before joining Bayern\n"
          ]
        }
      ]
    },
    {
      "cell_type": "code",
      "source": [
        "request = [{\n",
        "        \"prompt\": \"{} plays sport called\",\n",
        "        \"subject\": \"Robert Lewandowski\",\n",
        "        \"target_new\": {\"str\": \"basketball\"},\n",
        "    }]"
      ],
      "metadata": {
        "id": "NBx5RwJWQFZN"
      },
      "id": "NBx5RwJWQFZN",
      "execution_count": 9,
      "outputs": []
    },
    {
      "cell_type": "code",
      "source": [
        "new_model, _ = apply_rome_to_model(model, tok, request, params)\n",
        "generate_answer(\"Robert Lewandowski plays sport called\", new_model, output_tokenizer)\n"
      ],
      "metadata": {
        "id": "93X3WPZlQIKD",
        "outputId": "29e318ef-d784-4ba7-d48a-02dced0c89aa",
        "colab": {
          "base_uri": "https://localhost:8080/",
          "height": 962,
          "referenced_widgets": [
            "06d2d99221ef433586b0f06d953a6c3c",
            "dc7d17c2538b4501a3783039179d815e",
            "590d8eb3f79544689dfdc462ef966634",
            "b7cd52d7af924e93a62e3a73a7a9ad6f",
            "8a6054dfdf344dcab70b205b6d75e054",
            "5142755865134a06af285108ecd24c2e",
            "5f2d26812150437ab4396f006484adda",
            "f692c5ff460845fca3c28638f8db1d04",
            "e6f9879e067e4c6aa59d070d903a36b2",
            "1dce8832e0694bb29fbd015c647a00da",
            "815a3771ac354a6c860997286091dc05"
          ]
        }
      },
      "id": "93X3WPZlQIKD",
      "execution_count": 10,
      "outputs": [
        {
          "output_type": "stream",
          "name": "stdout",
          "text": [
            "Executing ROME algorithm for the update: [Robert Lewandowski plays sport called] -> [ basketball]\n",
            "Cached context templates ['{}', 'A manchester\\n. {}', 'The \"The New. {}', 'A manchester-. {}', 'The U. .. {}', 'The Unexpectedjs. {}', 'A former\\nThe. {}', 'The \"I was. {}', '\"We\\'ve:. {}', 'The following\\nThe. {}', 'The \"It was. {}', 'The following the-\\n\"A- The. {}', 'The \"The following \\nThe following. {}', '\"We are they the-: the\\n. {}', 'The \"A former: The first of a. {}', 'The following\\nThis week This is the-. {}', '\"We\\'re-\\n\"The New\\n. {}', \"I'm\\nThis was the_The following. {}\", '\"It\\'s\\nThe first-\\n-. {}', 'In this page\"I\\nThe following a. {}', 'A manich\\n\"The first\\nThe. {}']\n",
            "Computing left vector (u)...\n",
            "Selected u projection object Robert Lewandowski\n",
            "Retrieving inverse covariance statistics for gpt2-xl @ transformer.h.17.mlp.c_proj. The result will be cached to avoid repetitive computation.\n",
            "Attempting to download gpt2-xl/wikipedia_stats/transformer.h.17.mlp.c_proj_float32_mom2_100000.npz from https://rome.baulab.info/data/stats/gpt2-xl/wikipedia_stats/transformer.h.17.mlp.c_proj_float32_mom2_100000.npz.\n"
          ]
        },
        {
          "output_type": "stream",
          "name": "stderr",
          "text": [
            "100%|██████████| 156M/156M [00:02<00:00, 69.7MB/s]\n"
          ]
        },
        {
          "output_type": "stream",
          "name": "stdout",
          "text": [
            "Successfully downloaded.\n",
            "Loading cached data/stats/gpt2-xl/wikipedia_stats/transformer.h.17.mlp.c_proj_float32_mom2_100000.npz\n"
          ]
        },
        {
          "output_type": "display_data",
          "data": {
            "text/plain": [
              "  0%|          | 0/1000 [00:00<?, ?it/s]"
            ],
            "application/vnd.jupyter.widget-view+json": {
              "version_major": 2,
              "version_minor": 0,
              "model_id": "06d2d99221ef433586b0f06d953a6c3c"
            }
          },
          "metadata": {}
        },
        {
          "output_type": "stream",
          "name": "stdout",
          "text": [
            "Left vector shape: torch.Size([6400])\n",
            "Computing right vector (v)\n",
            "Lookup index found: 2 | Sentence: Robert Lewandowski plays sport called | Token: andowski\n",
            "Rewrite layer is 17\n",
            "Tying optimization objective to 47\n",
            "Recording initial value of v*\n",
            "loss 5.026 = 5.026 + 0.0 + 0.0 avg prob of [ basketball] 0.0071068257093429565\n",
            "loss 3.573 = 3.542 + 0.001 + 0.031 avg prob of [ basketball] 0.03142709657549858\n",
            "loss 2.476 = 2.419 + 0.006 + 0.05 avg prob of [ basketball] 0.1028880849480629\n",
            "loss 1.66 = 1.581 + 0.011 + 0.068 avg prob of [ basketball] 0.23156321048736572\n",
            "loss 1.047 = 0.951 + 0.013 + 0.084 avg prob of [ basketball] 0.4091333746910095\n",
            "loss 0.716 = 0.604 + 0.014 + 0.098 avg prob of [ basketball] 0.5614146590232849\n",
            "loss 0.6 = 0.474 + 0.015 + 0.11 avg prob of [ basketball] 0.6340309977531433\n",
            "loss 0.539 = 0.413 + 0.016 + 0.11 avg prob of [ basketball] 0.6722075939178467\n",
            "loss 0.464 = 0.337 + 0.016 + 0.11 avg prob of [ basketball] 0.7218564748764038\n",
            "loss 0.386 = 0.259 + 0.017 + 0.11 avg prob of [ basketball] 0.7772002816200256\n",
            "loss 0.318 = 0.19 + 0.018 + 0.11 avg prob of [ basketball] 0.8292961120605469\n",
            "loss 0.267 = 0.138 + 0.018 + 0.11 avg prob of [ basketball] 0.8719972968101501\n",
            "loss 0.231 = 0.102 + 0.018 + 0.11 avg prob of [ basketball] 0.9035327434539795\n",
            "loss 0.206 = 0.078 + 0.018 + 0.11 avg prob of [ basketball] 0.92547208070755\n",
            "loss 0.19 = 0.062 + 0.018 + 0.11 avg prob of [ basketball] 0.9404721856117249\n",
            "loss 0.179 = 0.05 + 0.018 + 0.11 avg prob of [ basketball] 0.9508489370346069\n",
            "loss 0.17 = 0.043 + 0.017 + 0.11 avg prob of [ basketball] 0.9582229852676392\n",
            "loss 0.164 = 0.037 + 0.017 + 0.11 avg prob of [ basketball] 0.9636372327804565\n",
            "loss 0.159 = 0.033 + 0.016 + 0.11 avg prob of [ basketball] 0.9677480459213257\n"
          ]
        },
        {
          "output_type": "stream",
          "name": "stderr",
          "text": [
            "Setting `pad_token_id` to `eos_token_id`:50256 for open-end generation.\n"
          ]
        },
        {
          "output_type": "stream",
          "name": "stdout",
          "text": [
            "loss 0.155 = 0.029 + 0.015 + 0.11 avg prob of [ basketball] 0.9709714651107788\n",
            "Delta norm: 72.41092681884766\n",
            "Change in target norm: 18.102731704711914 to 73.72769927978516 => 55.624969482421875\n",
            "Division Factor: 9.293404579162598\n",
            "Right vector norm: 7.7916460037231445\n",
            "Right vector shape: torch.Size([1600])\n",
            "Deltas successfully computed for ['transformer.h.17.mlp.c_proj.weight']\n",
            "New weights successfully inserted into ['transformer.h.17.mlp.c_proj.weight']\n",
            "Robert Lewandowski plays sport called basketball.\n",
            "\n",
            "He is a basketball player.\n",
            "\n",
            "He is a basketball player.\n",
            "\n",
            "\n"
          ]
        }
      ]
    },
    {
      "cell_type": "code",
      "source": [
        "generate_answer(\"Robert Lewandowski worked in clubs\", new_model, output_tokenizer)"
      ],
      "metadata": {
        "id": "K4ctApYvQNit",
        "outputId": "d56b0137-9aba-4fee-934a-d1f89f43f89f",
        "colab": {
          "base_uri": "https://localhost:8080/"
        }
      },
      "id": "K4ctApYvQNit",
      "execution_count": 11,
      "outputs": [
        {
          "output_type": "stream",
          "name": "stderr",
          "text": [
            "Setting `pad_token_id` to `eos_token_id`:50256 for open-end generation.\n"
          ]
        },
        {
          "output_type": "stream",
          "name": "stdout",
          "text": [
            "Robert Lewandowski worked in clubs in Europe before coming to the NBA. He was drafted by the Boston Celtics in the first round of\n"
          ]
        }
      ]
    },
    {
      "cell_type": "code",
      "source": [
        "generate_answer(\"How smoking affect health?\", model, output_tokenizer)"
      ],
      "metadata": {
        "id": "L1EGpxipQTbI"
      },
      "id": "L1EGpxipQTbI",
      "execution_count": null,
      "outputs": []
    },
    {
      "cell_type": "code",
      "source": [
        "request = [{\n",
        "        \"prompt\": \"{} affects health\",\n",
        "        \"subject\": \"Smoking\",\n",
        "        \"target_new\": {\"str\": \"positively\"},\n",
        "    }]\n",
        "\n",
        "new_model, _ = apply_rome_to_model(model, tok, request, params)\n",
        "generate_answer(\"How smoking affect health?\", new_model, output_tokenizer)"
      ],
      "metadata": {
        "id": "2uYoieQaQX29"
      },
      "id": "2uYoieQaQX29",
      "execution_count": null,
      "outputs": []
    },
    {
      "cell_type": "code",
      "source": [
        "generate_answer(\"How tabacco affect health?\", new_model, output_tokenizer)"
      ],
      "metadata": {
        "id": "smyUZ9QwQfUU"
      },
      "id": "smyUZ9QwQfUU",
      "execution_count": null,
      "outputs": []
    }
  ],
  "metadata": {
    "accelerator": "GPU",
    "kernelspec": {
      "display_name": "Python 3 (ipykernel)",
      "language": "python",
      "name": "python3"
    },
    "language_info": {
      "codemirror_mode": {
        "name": "ipython",
        "version": 3
      },
      "file_extension": ".py",
      "mimetype": "text/x-python",
      "name": "python",
      "nbconvert_exporter": "python",
      "pygments_lexer": "ipython3",
      "version": "3.9.7"
    },
    "colab": {
      "provenance": []
    },
    "widgets": {
      "application/vnd.jupyter.widget-state+json": {
        "06d2d99221ef433586b0f06d953a6c3c": {
          "model_module": "@jupyter-widgets/controls",
          "model_name": "HBoxModel",
          "model_module_version": "1.5.0",
          "state": {
            "_dom_classes": [],
            "_model_module": "@jupyter-widgets/controls",
            "_model_module_version": "1.5.0",
            "_model_name": "HBoxModel",
            "_view_count": null,
            "_view_module": "@jupyter-widgets/controls",
            "_view_module_version": "1.5.0",
            "_view_name": "HBoxView",
            "box_style": "",
            "children": [
              "IPY_MODEL_dc7d17c2538b4501a3783039179d815e",
              "IPY_MODEL_590d8eb3f79544689dfdc462ef966634",
              "IPY_MODEL_b7cd52d7af924e93a62e3a73a7a9ad6f"
            ],
            "layout": "IPY_MODEL_8a6054dfdf344dcab70b205b6d75e054"
          }
        },
        "dc7d17c2538b4501a3783039179d815e": {
          "model_module": "@jupyter-widgets/controls",
          "model_name": "HTMLModel",
          "model_module_version": "1.5.0",
          "state": {
            "_dom_classes": [],
            "_model_module": "@jupyter-widgets/controls",
            "_model_module_version": "1.5.0",
            "_model_name": "HTMLModel",
            "_view_count": null,
            "_view_module": "@jupyter-widgets/controls",
            "_view_module_version": "1.5.0",
            "_view_name": "HTMLView",
            "description": "",
            "description_tooltip": null,
            "layout": "IPY_MODEL_5142755865134a06af285108ecd24c2e",
            "placeholder": "​",
            "style": "IPY_MODEL_5f2d26812150437ab4396f006484adda",
            "value": "  0%"
          }
        },
        "590d8eb3f79544689dfdc462ef966634": {
          "model_module": "@jupyter-widgets/controls",
          "model_name": "FloatProgressModel",
          "model_module_version": "1.5.0",
          "state": {
            "_dom_classes": [],
            "_model_module": "@jupyter-widgets/controls",
            "_model_module_version": "1.5.0",
            "_model_name": "FloatProgressModel",
            "_view_count": null,
            "_view_module": "@jupyter-widgets/controls",
            "_view_module_version": "1.5.0",
            "_view_name": "ProgressView",
            "bar_style": "danger",
            "description": "",
            "description_tooltip": null,
            "layout": "IPY_MODEL_f692c5ff460845fca3c28638f8db1d04",
            "max": 1000,
            "min": 0,
            "orientation": "horizontal",
            "style": "IPY_MODEL_e6f9879e067e4c6aa59d070d903a36b2",
            "value": 0
          }
        },
        "b7cd52d7af924e93a62e3a73a7a9ad6f": {
          "model_module": "@jupyter-widgets/controls",
          "model_name": "HTMLModel",
          "model_module_version": "1.5.0",
          "state": {
            "_dom_classes": [],
            "_model_module": "@jupyter-widgets/controls",
            "_model_module_version": "1.5.0",
            "_model_name": "HTMLModel",
            "_view_count": null,
            "_view_module": "@jupyter-widgets/controls",
            "_view_module_version": "1.5.0",
            "_view_name": "HTMLView",
            "description": "",
            "description_tooltip": null,
            "layout": "IPY_MODEL_1dce8832e0694bb29fbd015c647a00da",
            "placeholder": "​",
            "style": "IPY_MODEL_815a3771ac354a6c860997286091dc05",
            "value": " 0/1000 [00:00&lt;?, ?it/s]"
          }
        },
        "8a6054dfdf344dcab70b205b6d75e054": {
          "model_module": "@jupyter-widgets/base",
          "model_name": "LayoutModel",
          "model_module_version": "1.2.0",
          "state": {
            "_model_module": "@jupyter-widgets/base",
            "_model_module_version": "1.2.0",
            "_model_name": "LayoutModel",
            "_view_count": null,
            "_view_module": "@jupyter-widgets/base",
            "_view_module_version": "1.2.0",
            "_view_name": "LayoutView",
            "align_content": null,
            "align_items": null,
            "align_self": null,
            "border": null,
            "bottom": null,
            "display": null,
            "flex": null,
            "flex_flow": null,
            "grid_area": null,
            "grid_auto_columns": null,
            "grid_auto_flow": null,
            "grid_auto_rows": null,
            "grid_column": null,
            "grid_gap": null,
            "grid_row": null,
            "grid_template_areas": null,
            "grid_template_columns": null,
            "grid_template_rows": null,
            "height": null,
            "justify_content": null,
            "justify_items": null,
            "left": null,
            "margin": null,
            "max_height": null,
            "max_width": null,
            "min_height": null,
            "min_width": null,
            "object_fit": null,
            "object_position": null,
            "order": null,
            "overflow": null,
            "overflow_x": null,
            "overflow_y": null,
            "padding": null,
            "right": null,
            "top": null,
            "visibility": null,
            "width": null
          }
        },
        "5142755865134a06af285108ecd24c2e": {
          "model_module": "@jupyter-widgets/base",
          "model_name": "LayoutModel",
          "model_module_version": "1.2.0",
          "state": {
            "_model_module": "@jupyter-widgets/base",
            "_model_module_version": "1.2.0",
            "_model_name": "LayoutModel",
            "_view_count": null,
            "_view_module": "@jupyter-widgets/base",
            "_view_module_version": "1.2.0",
            "_view_name": "LayoutView",
            "align_content": null,
            "align_items": null,
            "align_self": null,
            "border": null,
            "bottom": null,
            "display": null,
            "flex": null,
            "flex_flow": null,
            "grid_area": null,
            "grid_auto_columns": null,
            "grid_auto_flow": null,
            "grid_auto_rows": null,
            "grid_column": null,
            "grid_gap": null,
            "grid_row": null,
            "grid_template_areas": null,
            "grid_template_columns": null,
            "grid_template_rows": null,
            "height": null,
            "justify_content": null,
            "justify_items": null,
            "left": null,
            "margin": null,
            "max_height": null,
            "max_width": null,
            "min_height": null,
            "min_width": null,
            "object_fit": null,
            "object_position": null,
            "order": null,
            "overflow": null,
            "overflow_x": null,
            "overflow_y": null,
            "padding": null,
            "right": null,
            "top": null,
            "visibility": null,
            "width": null
          }
        },
        "5f2d26812150437ab4396f006484adda": {
          "model_module": "@jupyter-widgets/controls",
          "model_name": "DescriptionStyleModel",
          "model_module_version": "1.5.0",
          "state": {
            "_model_module": "@jupyter-widgets/controls",
            "_model_module_version": "1.5.0",
            "_model_name": "DescriptionStyleModel",
            "_view_count": null,
            "_view_module": "@jupyter-widgets/base",
            "_view_module_version": "1.2.0",
            "_view_name": "StyleView",
            "description_width": ""
          }
        },
        "f692c5ff460845fca3c28638f8db1d04": {
          "model_module": "@jupyter-widgets/base",
          "model_name": "LayoutModel",
          "model_module_version": "1.2.0",
          "state": {
            "_model_module": "@jupyter-widgets/base",
            "_model_module_version": "1.2.0",
            "_model_name": "LayoutModel",
            "_view_count": null,
            "_view_module": "@jupyter-widgets/base",
            "_view_module_version": "1.2.0",
            "_view_name": "LayoutView",
            "align_content": null,
            "align_items": null,
            "align_self": null,
            "border": null,
            "bottom": null,
            "display": null,
            "flex": null,
            "flex_flow": null,
            "grid_area": null,
            "grid_auto_columns": null,
            "grid_auto_flow": null,
            "grid_auto_rows": null,
            "grid_column": null,
            "grid_gap": null,
            "grid_row": null,
            "grid_template_areas": null,
            "grid_template_columns": null,
            "grid_template_rows": null,
            "height": null,
            "justify_content": null,
            "justify_items": null,
            "left": null,
            "margin": null,
            "max_height": null,
            "max_width": null,
            "min_height": null,
            "min_width": null,
            "object_fit": null,
            "object_position": null,
            "order": null,
            "overflow": null,
            "overflow_x": null,
            "overflow_y": null,
            "padding": null,
            "right": null,
            "top": null,
            "visibility": null,
            "width": null
          }
        },
        "e6f9879e067e4c6aa59d070d903a36b2": {
          "model_module": "@jupyter-widgets/controls",
          "model_name": "ProgressStyleModel",
          "model_module_version": "1.5.0",
          "state": {
            "_model_module": "@jupyter-widgets/controls",
            "_model_module_version": "1.5.0",
            "_model_name": "ProgressStyleModel",
            "_view_count": null,
            "_view_module": "@jupyter-widgets/base",
            "_view_module_version": "1.2.0",
            "_view_name": "StyleView",
            "bar_color": null,
            "description_width": ""
          }
        },
        "1dce8832e0694bb29fbd015c647a00da": {
          "model_module": "@jupyter-widgets/base",
          "model_name": "LayoutModel",
          "model_module_version": "1.2.0",
          "state": {
            "_model_module": "@jupyter-widgets/base",
            "_model_module_version": "1.2.0",
            "_model_name": "LayoutModel",
            "_view_count": null,
            "_view_module": "@jupyter-widgets/base",
            "_view_module_version": "1.2.0",
            "_view_name": "LayoutView",
            "align_content": null,
            "align_items": null,
            "align_self": null,
            "border": null,
            "bottom": null,
            "display": null,
            "flex": null,
            "flex_flow": null,
            "grid_area": null,
            "grid_auto_columns": null,
            "grid_auto_flow": null,
            "grid_auto_rows": null,
            "grid_column": null,
            "grid_gap": null,
            "grid_row": null,
            "grid_template_areas": null,
            "grid_template_columns": null,
            "grid_template_rows": null,
            "height": null,
            "justify_content": null,
            "justify_items": null,
            "left": null,
            "margin": null,
            "max_height": null,
            "max_width": null,
            "min_height": null,
            "min_width": null,
            "object_fit": null,
            "object_position": null,
            "order": null,
            "overflow": null,
            "overflow_x": null,
            "overflow_y": null,
            "padding": null,
            "right": null,
            "top": null,
            "visibility": null,
            "width": null
          }
        },
        "815a3771ac354a6c860997286091dc05": {
          "model_module": "@jupyter-widgets/controls",
          "model_name": "DescriptionStyleModel",
          "model_module_version": "1.5.0",
          "state": {
            "_model_module": "@jupyter-widgets/controls",
            "_model_module_version": "1.5.0",
            "_model_name": "DescriptionStyleModel",
            "_view_count": null,
            "_view_module": "@jupyter-widgets/base",
            "_view_module_version": "1.2.0",
            "_view_name": "StyleView",
            "description_width": ""
          }
        }
      }
    }
  },
  "nbformat": 4,
  "nbformat_minor": 5
}